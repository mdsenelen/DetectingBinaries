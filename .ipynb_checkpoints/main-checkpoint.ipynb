{
 "cells": [
  {
   "cell_type": "code",
   "execution_count": 1,
   "id": "5f7564ba",
   "metadata": {},
   "outputs": [],
   "source": [
    "from os import listdir\n",
    "import pandas as pd\n",
    "import numpy as np\n",
    "import seaborn as sns # For graphs and visualization.\n",
    "import entropy\n",
    "# Machine learning tools From scikit-learn library.\n",
    "from sklearn.model_selection import train_test_split, cross_val_score\n",
    "from sklearn.metrics import confusion_matrix, accuracy_score\n",
    "# Classifiers used\n",
    "from sklearn.naive_bayes import GaussianNB\n",
    "from sklearn.discriminant_analysis import LinearDiscriminantAnalysis\n",
    "from sklearn.linear_model import SGDClassifier\n",
    "from sklearn.tree import DecisionTreeClassifier\n",
    "from sklearn.naive_bayes import MultinomialNB\n",
    "from sklearn.neighbors import KNeighborsClassifier\n",
    "from sklearn.ensemble import RandomForestClassifier\n",
    "from sklearn.ensemble import GradientBoostingClassifier"
   ]
  },
  {
   "cell_type": "code",
   "execution_count": 2,
   "id": "f154002f",
   "metadata": {},
   "outputs": [],
   "source": [
    "# Calculates different entropy values for a binary executable and creates a feature list.\n",
    "def get_feature_list(content):\n",
    "\tv0 = entropy.shannon_entropy(content)\n",
    "\tv1 = sum(entropy.sample_entropy(content, 3))\n",
    "\tv2 = entropy.permutation_entropy(content)\n",
    "\t#v3 = entropy.weighted_permutation_entropy(content)\n",
    "\t#v4 = sum(entropy.multiscale_entropy(content, 3, maxscale=3))\n",
    "\treturn [v0, v1, v2] # , v3, v4"
   ]
  },
  {
   "cell_type": "code",
   "execution_count": 3,
   "id": "d8ac95c6",
   "metadata": {},
   "outputs": [],
   "source": [
    "# Create dataset by calculating entropy values for each file under './Packed' and './Not Packed' directories.\n",
    "if \"collection.csv\" not in listdir():\n",
    "\tHEADERS = [\"Shannon Entropy\", \"Sample Entropy\", \"Permutation Entropy\", \"Target\"] # , \"Weighted Permutation Entropy\", \"Multiscale Entropy\"\n",
    "\tentries = []\n",
    "\n",
    "\tfor category, class_val in zip([\"Not Packed\", \"Packed\"], [0, 1]):\n",
    "\t\tfor file in listdir(f\"./{category}/\"):\n",
    "\t\t\tprint(f\"Calculating values for './{category}/{file}'\")\n",
    "\t\t\twith open(f\"./{category}/{file}\", \"rb\") as f:\n",
    "\t\t\t\tcontent = list(f.readline()) \n",
    "\t\t\t\tentries.append(get_feature_list(content)+[class_val])\n",
    "\t\t\t\t\n",
    "\tdata_frame = pd.DataFrame(entries, columns=HEADERS)\n",
    "\tdata_frame.to_csv(\"collection.csv\", sep=\",\", header=True)"
   ]
  },
  {
   "cell_type": "code",
   "execution_count": 18,
   "id": "6e669eca",
   "metadata": {},
   "outputs": [],
   "source": [
    "# Load the dataframe.\n",
    "data_frame = pd.read_csv(\"collection.csv\",  sep=\",\")\n",
    "data_frame = data_frame.iloc[: , 1:] # Dropping the Index column as it confuses the learning algorithms."
   ]
  },
  {
   "cell_type": "code",
   "execution_count": 20,
   "id": "ceea3f0f",
   "metadata": {},
   "outputs": [
    {
     "data": {
      "text/html": [
       "<div>\n",
       "<style scoped>\n",
       "    .dataframe tbody tr th:only-of-type {\n",
       "        vertical-align: middle;\n",
       "    }\n",
       "\n",
       "    .dataframe tbody tr th {\n",
       "        vertical-align: top;\n",
       "    }\n",
       "\n",
       "    .dataframe thead th {\n",
       "        text-align: right;\n",
       "    }\n",
       "</style>\n",
       "<table border=\"1\" class=\"dataframe\">\n",
       "  <thead>\n",
       "    <tr style=\"text-align: right;\">\n",
       "      <th></th>\n",
       "      <th>Shannon Entropy</th>\n",
       "      <th>Sample Entropy</th>\n",
       "      <th>Permutation Entropy</th>\n",
       "      <th>Target</th>\n",
       "    </tr>\n",
       "  </thead>\n",
       "  <tbody>\n",
       "    <tr>\n",
       "      <th>0</th>\n",
       "      <td>1.014186</td>\n",
       "      <td>0.254144</td>\n",
       "      <td>0.638124</td>\n",
       "      <td>0</td>\n",
       "    </tr>\n",
       "    <tr>\n",
       "      <th>1</th>\n",
       "      <td>3.780757</td>\n",
       "      <td>1.912172</td>\n",
       "      <td>1.937650</td>\n",
       "      <td>0</td>\n",
       "    </tr>\n",
       "    <tr>\n",
       "      <th>2</th>\n",
       "      <td>2.745957</td>\n",
       "      <td>1.138383</td>\n",
       "      <td>1.749375</td>\n",
       "      <td>0</td>\n",
       "    </tr>\n",
       "    <tr>\n",
       "      <th>3</th>\n",
       "      <td>3.905925</td>\n",
       "      <td>2.085990</td>\n",
       "      <td>2.187287</td>\n",
       "      <td>0</td>\n",
       "    </tr>\n",
       "    <tr>\n",
       "      <th>4</th>\n",
       "      <td>3.780757</td>\n",
       "      <td>1.912172</td>\n",
       "      <td>1.937650</td>\n",
       "      <td>0</td>\n",
       "    </tr>\n",
       "  </tbody>\n",
       "</table>\n",
       "</div>"
      ],
      "text/plain": [
       "   Shannon Entropy  Sample Entropy  Permutation Entropy  Target\n",
       "0         1.014186        0.254144             0.638124       0\n",
       "1         3.780757        1.912172             1.937650       0\n",
       "2         2.745957        1.138383             1.749375       0\n",
       "3         3.905925        2.085990             2.187287       0\n",
       "4         3.780757        1.912172             1.937650       0"
      ]
     },
     "execution_count": 20,
     "metadata": {},
     "output_type": "execute_result"
    }
   ],
   "source": [
    "data_frame # First 5 entries from the dataframe."
   ]
  },
  {
   "cell_type": "code",
   "execution_count": 21,
   "id": "d458f3b3",
   "metadata": {},
   "outputs": [
    {
     "data": {
      "text/html": [
       "<div>\n",
       "<style scoped>\n",
       "    .dataframe tbody tr th:only-of-type {\n",
       "        vertical-align: middle;\n",
       "    }\n",
       "\n",
       "    .dataframe tbody tr th {\n",
       "        vertical-align: top;\n",
       "    }\n",
       "\n",
       "    .dataframe thead th {\n",
       "        text-align: right;\n",
       "    }\n",
       "</style>\n",
       "<table border=\"1\" class=\"dataframe\">\n",
       "  <thead>\n",
       "    <tr style=\"text-align: right;\">\n",
       "      <th></th>\n",
       "      <th>Shannon Entropy</th>\n",
       "      <th>Sample Entropy</th>\n",
       "      <th>Permutation Entropy</th>\n",
       "      <th>Target</th>\n",
       "    </tr>\n",
       "  </thead>\n",
       "  <tbody>\n",
       "    <tr>\n",
       "      <th>count</th>\n",
       "      <td>500.000000</td>\n",
       "      <td>500.000000</td>\n",
       "      <td>500.000000</td>\n",
       "      <td>500.000000</td>\n",
       "    </tr>\n",
       "    <tr>\n",
       "      <th>mean</th>\n",
       "      <td>3.492570</td>\n",
       "      <td>1.732752</td>\n",
       "      <td>1.876717</td>\n",
       "      <td>0.500000</td>\n",
       "    </tr>\n",
       "    <tr>\n",
       "      <th>std</th>\n",
       "      <td>0.957236</td>\n",
       "      <td>0.617134</td>\n",
       "      <td>0.375343</td>\n",
       "      <td>0.500501</td>\n",
       "    </tr>\n",
       "    <tr>\n",
       "      <th>min</th>\n",
       "      <td>0.028323</td>\n",
       "      <td>0.007573</td>\n",
       "      <td>0.028064</td>\n",
       "      <td>0.000000</td>\n",
       "    </tr>\n",
       "    <tr>\n",
       "      <th>25%</th>\n",
       "      <td>3.731239</td>\n",
       "      <td>1.781021</td>\n",
       "      <td>1.937650</td>\n",
       "      <td>0.000000</td>\n",
       "    </tr>\n",
       "    <tr>\n",
       "      <th>50%</th>\n",
       "      <td>3.780757</td>\n",
       "      <td>1.912172</td>\n",
       "      <td>1.937650</td>\n",
       "      <td>0.500000</td>\n",
       "    </tr>\n",
       "    <tr>\n",
       "      <th>75%</th>\n",
       "      <td>3.780757</td>\n",
       "      <td>1.912172</td>\n",
       "      <td>1.937650</td>\n",
       "      <td>1.000000</td>\n",
       "    </tr>\n",
       "    <tr>\n",
       "      <th>max</th>\n",
       "      <td>6.689174</td>\n",
       "      <td>6.064947</td>\n",
       "      <td>2.575638</td>\n",
       "      <td>1.000000</td>\n",
       "    </tr>\n",
       "  </tbody>\n",
       "</table>\n",
       "</div>"
      ],
      "text/plain": [
       "       Shannon Entropy  Sample Entropy  Permutation Entropy      Target\n",
       "count       500.000000      500.000000           500.000000  500.000000\n",
       "mean          3.492570        1.732752             1.876717    0.500000\n",
       "std           0.957236        0.617134             0.375343    0.500501\n",
       "min           0.028323        0.007573             0.028064    0.000000\n",
       "25%           3.731239        1.781021             1.937650    0.000000\n",
       "50%           3.780757        1.912172             1.937650    0.500000\n",
       "75%           3.780757        1.912172             1.937650    1.000000\n",
       "max           6.689174        6.064947             2.575638    1.000000"
      ]
     },
     "execution_count": 21,
     "metadata": {},
     "output_type": "execute_result"
    }
   ],
   "source": [
    "data_frame.describe() # We can see max values each feature got using this method, and many more quick glance data."
   ]
  },
  {
   "cell_type": "code",
   "execution_count": 22,
   "id": "b83ff30b",
   "metadata": {},
   "outputs": [
    {
     "name": "stdout",
     "output_type": "stream",
     "text": [
      "This data frame has [500] entries. \n"
     ]
    }
   ],
   "source": [
    "# For example there are 500 rows we can also see that via\n",
    "print(f\"This data frame has [{len(data_frame)}] entries. \")"
   ]
  },
  {
   "cell_type": "code",
   "execution_count": 23,
   "id": "90342aa1",
   "metadata": {},
   "outputs": [
    {
     "data": {
      "text/plain": [
       "<seaborn.axisgrid.FacetGrid at 0x2417c086370>"
      ]
     },
     "execution_count": 23,
     "metadata": {},
     "output_type": "execute_result"
    },
    {
     "data": {
      "image/png": "[encoded data removed]",
      "text/plain": [
       "<Figure size 360x360 with 1 Axes>"
      ]
     },
     "metadata": {
      "needs_background": "light"
     },
     "output_type": "display_data"
    }
   ],
   "source": [
    "sns.displot(data_frame[\"Target\"])\n",
    "# Distrubtion of class variables. 250 unpacked and 250 packed entry"
   ]
  },
  {
   "cell_type": "code",
   "execution_count": 24,
   "id": "508a7569",
   "metadata": {},
   "outputs": [
    {
     "name": "stdout",
     "output_type": "stream",
     "text": [
      "<class 'pandas.core.frame.DataFrame'>\n",
      "RangeIndex: 500 entries, 0 to 499\n",
      "Data columns (total 4 columns):\n",
      " #   Column               Non-Null Count  Dtype  \n",
      "---  ------               --------------  -----  \n",
      " 0   Shannon Entropy      500 non-null    float64\n",
      " 1   Sample Entropy       500 non-null    float64\n",
      " 2   Permutation Entropy  500 non-null    float64\n",
      " 3   Target               500 non-null    int64  \n",
      "dtypes: float64(3), int64(1)\n",
      "memory usage: 15.8 KB\n",
      "None\n"
     ]
    }
   ],
   "source": [
    "print(data_frame.info()) \n",
    "# This shows datatypes for each column in the dataframe and how many of those attributes are NonNull value.\n",
    "# For example some classifiers cannot work with Null or Infinite values so we will have to get rid of them."
   ]
  },
  {
   "cell_type": "code",
   "execution_count": 25,
   "id": "330cafb9",
   "metadata": {},
   "outputs": [],
   "source": [
    "# We need to remove any rows that contain NaN or Infinite Values from the table\n",
    "data_frame = data_frame.replace([np.inf, -np.inf], np.nan) # Replacing inf values with NaN.\n",
    "data_frame = data_frame.dropna(axis=\"index\") # Dropping all entries that contain NaN value.\n",
    "# Right now this table doesn't have any so we can omit this block of code."
   ]
  },
  {
   "cell_type": "code",
   "execution_count": 43,
   "id": "f428e78f",
   "metadata": {},
   "outputs": [
    {
     "data": {
      "text/html": [
       "<div>\n",
       "<style scoped>\n",
       "    .dataframe tbody tr th:only-of-type {\n",
       "        vertical-align: middle;\n",
       "    }\n",
       "\n",
       "    .dataframe tbody tr th {\n",
       "        vertical-align: top;\n",
       "    }\n",
       "\n",
       "    .dataframe thead th {\n",
       "        text-align: right;\n",
       "    }\n",
       "</style>\n",
       "<table border=\"1\" class=\"dataframe\">\n",
       "  <thead>\n",
       "    <tr style=\"text-align: right;\">\n",
       "      <th></th>\n",
       "      <th>Shannon Entropy</th>\n",
       "      <th>Sample Entropy</th>\n",
       "      <th>Permutation Entropy</th>\n",
       "      <th>Target</th>\n",
       "    </tr>\n",
       "  </thead>\n",
       "  <tbody>\n",
       "    <tr>\n",
       "      <th>323</th>\n",
       "      <td>6.610179</td>\n",
       "      <td>3.892510</td>\n",
       "      <td>2.527736</td>\n",
       "      <td>1</td>\n",
       "    </tr>\n",
       "    <tr>\n",
       "      <th>352</th>\n",
       "      <td>6.689174</td>\n",
       "      <td>3.865975</td>\n",
       "      <td>2.513459</td>\n",
       "      <td>1</td>\n",
       "    </tr>\n",
       "    <tr>\n",
       "      <th>367</th>\n",
       "      <td>6.484307</td>\n",
       "      <td>3.544386</td>\n",
       "      <td>2.497058</td>\n",
       "      <td>1</td>\n",
       "    </tr>\n",
       "    <tr>\n",
       "      <th>371</th>\n",
       "      <td>6.256508</td>\n",
       "      <td>3.235349</td>\n",
       "      <td>2.447575</td>\n",
       "      <td>1</td>\n",
       "    </tr>\n",
       "    <tr>\n",
       "      <th>428</th>\n",
       "      <td>6.032683</td>\n",
       "      <td>3.319963</td>\n",
       "      <td>2.512077</td>\n",
       "      <td>1</td>\n",
       "    </tr>\n",
       "    <tr>\n",
       "      <th>466</th>\n",
       "      <td>6.187923</td>\n",
       "      <td>3.412886</td>\n",
       "      <td>2.491258</td>\n",
       "      <td>1</td>\n",
       "    </tr>\n",
       "    <tr>\n",
       "      <th>483</th>\n",
       "      <td>6.244201</td>\n",
       "      <td>3.349199</td>\n",
       "      <td>2.492873</td>\n",
       "      <td>1</td>\n",
       "    </tr>\n",
       "  </tbody>\n",
       "</table>\n",
       "</div>"
      ],
      "text/plain": [
       "     Shannon Entropy  Sample Entropy  Permutation Entropy  Target\n",
       "323         6.610179        3.892510             2.527736       1\n",
       "352         6.689174        3.865975             2.513459       1\n",
       "367         6.484307        3.544386             2.497058       1\n",
       "371         6.256508        3.235349             2.447575       1\n",
       "428         6.032683        3.319963             2.512077       1\n",
       "466         6.187923        3.412886             2.491258       1\n",
       "483         6.244201        3.349199             2.492873       1"
      ]
     },
     "execution_count": 43,
     "metadata": {},
     "output_type": "execute_result"
    }
   ],
   "source": [
    "# Earlier when we checked .describe method we saw that max value for a cell under \"Shannon Entropy\" column was 6.689174\n",
    "data_frame[data_frame[\"Shannon Entropy\"] > 6] # For example we can look for entries that have Shannon Entropy above 6.\n",
    "# When entropy is higher, it means randomness is higher. If entropy values are high it is very likely that, \n",
    "# that file is packed. We can see all entries that have Shannon Entropy value above 6 are indeed, packed."
   ]
  },
  {
   "cell_type": "code",
   "execution_count": 47,
   "id": "07744aa7",
   "metadata": {},
   "outputs": [
    {
     "data": {
      "text/plain": [
       "<seaborn.axisgrid.FacetGrid at 0x2417d53f6a0>"
      ]
     },
     "execution_count": 47,
     "metadata": {},
     "output_type": "execute_result"
    },
    {
     "data": {
      "image/png": "[encoded data removed]",
      "text/plain": [
       "<Figure size 360x360 with 1 Axes>"
      ]
     },
     "metadata": {
      "needs_background": "light"
     },
     "output_type": "display_data"
    }
   ],
   "source": [
    "sns.displot(data_frame[data_frame[\"Shannon Entropy\"] > 5][\"Target\"])"
   ]
  },
  {
   "cell_type": "code",
   "execution_count": 27,
   "id": "59feca8c",
   "metadata": {},
   "outputs": [
    {
     "data": {
      "text/plain": [
       "<AxesSubplot:xlabel='Target', ylabel='Permutation Entropy'>"
      ]
     },
     "execution_count": 27,
     "metadata": {},
     "output_type": "execute_result"
    },
    {
     "data": {
      "image/png": "[encoded data removed]",
      "text/plain": [
       "<Figure size 432x288 with 1 Axes>"
      ]
     },
     "metadata": {
      "needs_background": "light"
     },
     "output_type": "display_data"
    }
   ],
   "source": [
    "# We can also view relation between a feature and target column like this.\n",
    "sns.scatterplot(x=data_frame[\"Target\"], y=data_frame[\"Permutation Entropy\"], s=30)\n",
    "# In this graph we see that if a file is packed it's very likely that its \"Permutation Entropy\" value is \n",
    "# greater or equal to 1.5 as can be seen on the graph. Or in another words, if a file has Permutation Entropy value \n",
    "# lower than 1.5 we can assume that file is a \"Non Packed\" file."
   ]
  },
  {
   "cell_type": "code",
   "execution_count": 46,
   "id": "440d5026",
   "metadata": {},
   "outputs": [
    {
     "data": {
      "text/plain": [
       "<seaborn.axisgrid.FacetGrid at 0x2417d35ab80>"
      ]
     },
     "execution_count": 46,
     "metadata": {},
     "output_type": "execute_result"
    },
    {
     "data": {
      "image/png": "[encoded data removed]",
      "text/plain": [
       "<Figure size 360x360 with 1 Axes>"
      ]
     },
     "metadata": {
      "needs_background": "light"
     },
     "output_type": "display_data"
    }
   ],
   "source": [
    "sns.displot(data_frame[data_frame[\"Permutation Entropy\"] < 1.5][\"Target\"])"
   ]
  },
  {
   "cell_type": "code",
   "execution_count": 28,
   "id": "81bdcf28",
   "metadata": {},
   "outputs": [
    {
     "data": {
      "text/plain": [
       "<AxesSubplot:xlabel='Shannon Entropy', ylabel='Permutation Entropy'>"
      ]
     },
     "execution_count": 28,
     "metadata": {},
     "output_type": "execute_result"
    },
    {
     "data": {
      "image/png": "[encoded data removed]",
      "text/plain": [
       "<Figure size 432x288 with 1 Axes>"
      ]
     },
     "metadata": {
      "needs_background": "light"
     },
     "output_type": "display_data"
    }
   ],
   "source": [
    "# We can also view relation between two input features like this.\n",
    "sns.scatterplot(x=data_frame[\"Shannon Entropy\"], y=data_frame[\"Permutation Entropy\"], s=30)\n",
    "# In this graph we see that there is positive correlation between \"Shannon Entropy\" and \"Permutation Entropy\""
   ]
  },
  {
   "cell_type": "code",
   "execution_count": 29,
   "id": "60ce28f6",
   "metadata": {},
   "outputs": [],
   "source": [
    "target_vals = data_frame[\"Target\"]\t\t\t\t# Only target column for every entry : y\n",
    "entries = data_frame.drop([\"Target\"], axis=1)\t# Every column except the target column for every entry : x\n",
    "x_train, x_test, y_train, y_test = train_test_split(entries, target_vals, test_size=0.25, random_state=105) # Dividing the data into training and test sets with 75/25 ratio"
   ]
  },
  {
   "cell_type": "code",
   "execution_count": 30,
   "id": "a6e6f432",
   "metadata": {},
   "outputs": [],
   "source": [
    "# Dictionary containing all the classifier methods that will be used to train our dataset.\n",
    "# This dictionary is iterated and its inside will be filled with relative data and will contain the trained model for later use if needed.\n",
    "classifiers = {\n",
    "\t\"GaussianNB\" : {\n",
    "\t\t\"Constructor\" : GaussianNB \n",
    "\t},\n",
    "\t\"MultinomialNB\" : {\n",
    "\t\t\"Constructor\" : MultinomialNB \n",
    "\t},\n",
    "\t\"KNeighborsClassifier\" : {\n",
    "\t\t\"Constructor\" : KNeighborsClassifier \n",
    "\t},\n",
    "\t\"RandomForestClassifier\" : {\n",
    "\t\t\"Constructor\" : RandomForestClassifier \n",
    "\t},\n",
    "\t\"GradientBoostingClassifier\" : {\n",
    "\t\t\"Constructor\" : GradientBoostingClassifier \n",
    "\t},\n",
    "\t\"LinearDiscriminantAnalysis\" : { \n",
    "\t\t\"Constructor\" : LinearDiscriminantAnalysis\n",
    "\t},\n",
    "\t\"SGDClassifier\" : {\n",
    "\t\t\"Constructor\" : SGDClassifier\n",
    "\t},\n",
    "\t\"DecisionTreeClassifier\" : {\n",
    "\t\t\"Constructor\" : DecisionTreeClassifier\n",
    "\t} \n",
    "}"
   ]
  },
  {
   "cell_type": "code",
   "execution_count": 31,
   "id": "8c2b542b",
   "metadata": {},
   "outputs": [
    {
     "name": "stdout",
     "output_type": "stream",
     "text": [
      "Classifier: GaussianNB --> Accuracy: 0.6160, Cross Validation Score: 0.6237\n",
      "Classifier: MultinomialNB --> Accuracy: 0.7120, Cross Validation Score: 0.6647\n",
      "Classifier: KNeighborsClassifier --> Accuracy: 0.7360, Cross Validation Score: 0.7500\n",
      "Classifier: RandomForestClassifier --> Accuracy: 0.7280, Cross Validation Score: 0.7904\n",
      "Classifier: GradientBoostingClassifier --> Accuracy: 0.7280, Cross Validation Score: 0.7904\n",
      "Classifier: LinearDiscriminantAnalysis --> Accuracy: 0.7120, Cross Validation Score: 0.7673\n",
      "Classifier: SGDClassifier --> Accuracy: 0.5120, Cross Validation Score: 0.6083\n",
      "Classifier: DecisionTreeClassifier --> Accuracy: 0.7360, Cross Validation Score: 0.7827\n"
     ]
    }
   ],
   "source": [
    "most_accurate_classifier = [\"classifier\", 0]\n",
    "# For each classifier in classifiers dictionary, train the classifier, store the trained model as well as the calculated data about the trained model.\n",
    "for classifier in classifiers:\n",
    "\tclassifier_object = classifiers[classifier][\"Constructor\"]()\n",
    "\tclassifier_object.fit(x_train, y_train)\n",
    "\tclassifiers[classifier][\"Model\"] = classifier_object\n",
    "\tprediction = classifier_object.predict(x_test)\n",
    "\tclassifiers[classifier][\"Confusion_Matrix\"] = confusion_matrix(prediction, y_test) # Left diagonal values are the correct guesses and other values are mispredictions.\n",
    "\tclassifiers[classifier][\"Accuracy\"] = accuracy_score(prediction, y_test) # Compares what model guessed and what it actually is to get the accuracy.\n",
    "\tclassifiers[classifier][\"Cross_Validation_Score\"] = cross_val_score(classifier_object, x_test, y_test, cv=10).mean()\n",
    "\tif most_accurate_classifier[1] <  classifiers[classifier][\"Cross_Validation_Score\"]:\n",
    "\t\tmost_accurate_classifier = classifier, classifiers[classifier][\"Cross_Validation_Score\"]\n",
    "\tprint(\"Classifier: {classifier} --> Accuracy: {accuracy:.4f}, Cross Validation Score: {cvs:.4f}\".format(classifier=classifier, accuracy=classifiers[classifier][\"Accuracy\"], cvs=classifiers[classifier][\"Cross_Validation_Score\"]))"
   ]
  },
  {
   "cell_type": "code",
   "execution_count": 33,
   "id": "a56066e9",
   "metadata": {},
   "outputs": [
    {
     "name": "stdout",
     "output_type": "stream",
     "text": [
      "The most accurate classifier is: 'RandomForestClassifier' with highest percentage of cross_val_score: 79.038%\n"
     ]
    }
   ],
   "source": [
    "print(f\"The most accurate classifier is: '{most_accurate_classifier[0]}' with highest percentage of cross_val_score: {round(most_accurate_classifier[1]*100, 3)}%\")"
   ]
  },
  {
   "cell_type": "code",
   "execution_count": null,
   "id": "da905ed0",
   "metadata": {},
   "outputs": [],
   "source": []
  }
 ],
 "metadata": {
  "kernelspec": {
   "display_name": "Python 3 (ipykernel)",
   "language": "python",
   "name": "python3"
  },
  "language_info": {
   "codemirror_mode": {
    "name": "ipython",
    "version": 3
   },
   "file_extension": ".py",
   "mimetype": "text/x-python",
   "name": "python",
   "nbconvert_exporter": "python",
   "pygments_lexer": "ipython3",
   "version": "3.9.7"
  }
 },
 "nbformat": 4,
 "nbformat_minor": 5
}
